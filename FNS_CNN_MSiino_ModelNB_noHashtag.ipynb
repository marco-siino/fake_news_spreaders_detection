{
  "metadata": {
    "kernelspec": {
      "language": "python",
      "display_name": "Python 3",
      "name": "python3"
    },
    "language_info": {
      "name": "python",
      "version": "3.7.12",
      "mimetype": "text/x-python",
      "codemirror_mode": {
        "name": "ipython",
        "version": 3
      },
      "pygments_lexer": "ipython3",
      "nbconvert_exporter": "python",
      "file_extension": ".py"
    },
    "colab": {
      "provenance": [],
      "include_colab_link": true
    },
    "accelerator": "GPU"
  },
  "nbformat_minor": 0,
  "nbformat": 4,
  "cells": [
    {
      "cell_type": "markdown",
      "metadata": {
        "id": "view-in-github",
        "colab_type": "text"
      },
      "source": [
        "<a href=\"https://colab.research.google.com/github/marco-siino/fake_news_spreaders_detection/blob/main/FNS_CNN_MSiino_ModelNB_noHashtag.ipynb\" target=\"_parent\"><img src=\"https://colab.research.google.com/assets/colab-badge.svg\" alt=\"Open In Colab\"/></a>"
      ]
    },
    {
      "cell_type": "markdown",
      "source": [
        "## Automated Detection of Fake News Spreaders: An Evaluative Study of Transformers and SOTA Models on Multilingual Dataset. \n",
        "CNN Model, Training and Testing Notebook.\n",
        "Code by M. Siino. \n",
        "\n",
        "From the paper: \"Automated Detection of Fake News Spreaders: An Evaluative Study of Transformers and SOTA Models on Multilingual Dataset.\" by M.Siino et al."
      ],
      "metadata": {
        "id": "u-hLo5ufkCT1"
      }
    },
    {
      "cell_type": "markdown",
      "source": [
        "## Importing modules."
      ],
      "metadata": {
        "id": "6IBqUcj4cx2G"
      }
    },
    {
      "cell_type": "code",
      "source": [
        "import matplotlib.pyplot as plt\n",
        "import os\n",
        "import re\n",
        "import shutil\n",
        "import string\n",
        "import tensorflow as tf\n",
        "\n",
        "from tensorflow.keras import layers\n",
        "from tensorflow.keras import losses\n",
        "from tensorflow.keras import preprocessing\n",
        "from keras.models import Model\n",
        "from tensorflow.keras.layers.experimental.preprocessing import TextVectorization\n",
        "from io import open\n",
        "from pathlib import Path"
      ],
      "metadata": {
        "id": "AQSunQ-ucjLX",
        "execution": {
          "iopub.status.busy": "2022-03-24T10:25:47.398132Z",
          "iopub.execute_input": "2022-03-24T10:25:47.398833Z",
          "iopub.status.idle": "2022-03-24T10:25:53.618201Z",
          "shell.execute_reply.started": "2022-03-24T10:25:47.398705Z",
          "shell.execute_reply": "2022-03-24T10:25:53.617462Z"
        },
        "trusted": true
      },
      "execution_count": 1,
      "outputs": []
    },
    {
      "cell_type": "markdown",
      "source": [
        "## Importing DS and extract in current working directory."
      ],
      "metadata": {
        "id": "0QHd_fxmHCfa"
      }
    },
    {
      "cell_type": "code",
      "source": [
        "# Url obtained starting from this: https://drive.google.com/file/d/19ZcqEv88euKB71HfAWjTGN3uCKp2qsfP/ and forcing export=download.\n",
        "urlTrainingSet = \"https://github.com/marco-siino/fake_news_spreaders_detection/raw/main/dataset/pan20-author-profiling-training-2020-02-23.zip\"\n",
        "urlTestSet=\"https://github.com/marco-siino/fake_news_spreaders_detection/raw/main/dataset/pan20-author-profiling-test-2020-02-23.zip\"\n",
        "\n",
        "training_set = tf.keras.utils.get_file(\"pan20-author-profiling-training-2020-02-23.zip\", urlTrainingSet,\n",
        "                                    extract=True, archive_format='zip',cache_dir='.',\n",
        "                                    cache_subdir='')\n",
        "test_set = tf.keras.utils.get_file(\"pan20-author-profiling-test-2020-02-23.zip\", urlTestSet,\n",
        "                                    extract=True, archive_format='zip',cache_dir='.',\n",
        "                                    cache_subdir='')\n",
        "\n",
        "training_set_dir = os.path.join(os.path.dirname(training_set), 'pan20-author-profiling-training-2020-02-23')\n",
        "test_set_dir = os.path.join(os.path.dirname(test_set), 'pan20-author-profiling-test-2020-02-23')\n",
        "\n",
        "print(training_set)\n",
        "print(training_set_dir)\n",
        "\n",
        "!ls -A"
      ],
      "metadata": {
        "id": "ocYMUXaY8r0_",
        "outputId": "afc8524a-d761-4cfe-ef65-407078ff8133",
        "execution": {
          "iopub.status.busy": "2022-03-24T10:25:59.212848Z",
          "iopub.execute_input": "2022-03-24T10:25:59.213538Z",
          "iopub.status.idle": "2022-03-24T10:26:01.693642Z",
          "shell.execute_reply.started": "2022-03-24T10:25:59.213502Z",
          "shell.execute_reply": "2022-03-24T10:26:01.692842Z"
        },
        "trusted": true,
        "colab": {
          "base_uri": "https://localhost:8080/"
        }
      },
      "execution_count": 2,
      "outputs": [
        {
          "output_type": "stream",
          "name": "stdout",
          "text": [
            "Downloading data from https://github.com/marco-siino/fake_news_spreaders_detection/raw/main/dataset/pan20-author-profiling-training-2020-02-23.zip\n",
            "3096576/3094459 [==============================] - 0s 0us/step\n",
            "3104768/3094459 [==============================] - 0s 0us/step\n",
            "Downloading data from https://github.com/marco-siino/fake_news_spreaders_detection/raw/main/dataset/pan20-author-profiling-test-2020-02-23.zip\n",
            "2138112/2135236 [==============================] - 0s 0us/step\n",
            "2146304/2135236 [==============================] - 0s 0us/step\n",
            "./pan20-author-profiling-training-2020-02-23.zip\n",
            "./pan20-author-profiling-training-2020-02-23\n",
            ".config\n",
            "__MACOSX\n",
            "pan20-author-profiling-test-2020-02-23\n",
            "pan20-author-profiling-test-2020-02-23.zip\n",
            "pan20-author-profiling-training-2020-02-23\n",
            "pan20-author-profiling-training-2020-02-23.zip\n",
            "sample_data\n"
          ]
        }
      ]
    },
    {
      "cell_type": "markdown",
      "source": [
        "## Build folders hierarchy to use Keras folders preprocessing function."
      ],
      "metadata": {
        "id": "Di7jOZjALo4X"
      }
    },
    {
      "cell_type": "code",
      "source": [
        "### Training Folders. ###\n",
        "\n",
        "# First level directory.\n",
        "if not os.path.exists('train_dir_en'):\n",
        "    os.makedirs('train_dir_en')\n",
        "if not os.path.exists('train_dir_es'):\n",
        "    os.makedirs('train_dir_es')\n",
        "\n",
        "# Class labels directory.\n",
        "if not os.path.exists('train_dir_en/0'):\n",
        "    os.makedirs('train_dir_en/0')\n",
        "if not os.path.exists('train_dir_es/0'):\n",
        "    os.makedirs('train_dir_es/0')\n",
        "if not os.path.exists('train_dir_en/1'):\n",
        "    os.makedirs('train_dir_en/1')\n",
        "if not os.path.exists('train_dir_es/1'):\n",
        "    os.makedirs('train_dir_es/1')\n",
        "\n",
        "# Make Py variables.\n",
        "train_dir='train_dir_'\n",
        "\n",
        "## Test Folders. ##\n",
        "# First level directory.\n",
        "if not os.path.exists('test_dir_en'):\n",
        "    os.makedirs('test_dir_en')\n",
        "if not os.path.exists('test_dir_es'):\n",
        "    os.makedirs('test_dir_es')\n",
        "\n",
        "# Class labels directory.\n",
        "if not os.path.exists('test_dir_en/0'):\n",
        "    os.makedirs('test_dir_en/0')\n",
        "if not os.path.exists('test_dir_es/0'):\n",
        "    os.makedirs('test_dir_es/0')\n",
        "if not os.path.exists('test_dir_en/1'):\n",
        "    os.makedirs('test_dir_en/1')\n",
        "if not os.path.exists('test_dir_es/1'):\n",
        "    os.makedirs('test_dir_es/1')\n",
        "\n",
        "# Make Py variables.\n",
        "test_dir='test_dir_'\n",
        "\n",
        "!ls -A"
      ],
      "metadata": {
        "id": "-ucATWhfGSGf",
        "outputId": "0586613a-ce7a-4bc1-c5b8-31baa7c9ec85",
        "execution": {
          "iopub.status.busy": "2022-03-24T10:26:04.963372Z",
          "iopub.execute_input": "2022-03-24T10:26:04.964016Z",
          "iopub.status.idle": "2022-03-24T10:26:05.640817Z",
          "shell.execute_reply.started": "2022-03-24T10:26:04.963975Z",
          "shell.execute_reply": "2022-03-24T10:26:05.639969Z"
        },
        "trusted": true,
        "colab": {
          "base_uri": "https://localhost:8080/"
        }
      },
      "execution_count": 3,
      "outputs": [
        {
          "output_type": "stream",
          "name": "stdout",
          "text": [
            ".config\t\t\t\t\t\tsample_data\n",
            "__MACOSX\t\t\t\t\ttest_dir_en\n",
            "pan20-author-profiling-test-2020-02-23\t\ttest_dir_es\n",
            "pan20-author-profiling-test-2020-02-23.zip\ttrain_dir_en\n",
            "pan20-author-profiling-training-2020-02-23\ttrain_dir_es\n",
            "pan20-author-profiling-training-2020-02-23.zip\n"
          ]
        }
      ]
    },
    {
      "cell_type": "markdown",
      "source": [
        "## Set language and directory paths.\n"
      ],
      "metadata": {
        "id": "tNib56hF_8an"
      }
    },
    {
      "cell_type": "code",
      "source": [
        "# Set en and es train_dir and test_dir paths.\n",
        "language='es'\n",
        "\n",
        "truth_file_training_dir_es=training_set_dir+'/'+language+'/'\n",
        "truth_file_training_path_es = truth_file_training_dir_es+'truth.txt'\n",
        "\n",
        "truth_file_test_dir=test_set_dir\n",
        "truth_file_test_path_es = truth_file_test_dir+'/'+language+'.txt'\n",
        "\n",
        "\n",
        "language='en'\n",
        "\n",
        "truth_file_training_dir_en=training_set_dir+'/'+language+'/'\n",
        "truth_file_training_path_en = truth_file_training_dir_en+'truth.txt'\n",
        "\n",
        "truth_file_test_path_en = truth_file_test_dir+'/'+language+'.txt'"
      ],
      "metadata": {
        "id": "Rq0EgZuf_5tv",
        "execution": {
          "iopub.status.busy": "2022-03-24T10:26:08.239085Z",
          "iopub.execute_input": "2022-03-24T10:26:08.240161Z",
          "iopub.status.idle": "2022-03-24T10:26:08.246259Z",
          "shell.execute_reply.started": "2022-03-24T10:26:08.240111Z",
          "shell.execute_reply": "2022-03-24T10:26:08.245219Z"
        },
        "trusted": true
      },
      "execution_count": 4,
      "outputs": []
    },
    {
      "cell_type": "markdown",
      "source": [
        "## Read truth.txt to organize training dataset folders.\n",
        "\n"
      ],
      "metadata": {
        "id": "7VQKsc4XOpD8"
      }
    },
    {
      "cell_type": "code",
      "source": [
        "# Organize EN folders.\n",
        "language='en'\n",
        "# Open the file truth.txt with read only permit.\n",
        "f = open(truth_file_training_path_en, \"r\")\n",
        "# use readline() to read the first line \n",
        "line = f.readline()\n",
        "# use the read line to read further.\n",
        "# If the file is not empty keep reading one line\n",
        "# at a time, till the file is empty\n",
        "while line:\n",
        "    # Split line at :::\n",
        "    x = line.split(\":::\")\n",
        "    fNameXml = x[0]+'.xml'\n",
        "    fNameTxt = x[0]+'.txt'\n",
        "    # Second coord [0] gets just the first character (label) and not /n too.\n",
        "    label = x[1][0]\n",
        "\n",
        "    # Now move the file to the right folder.\n",
        "    if os.path.exists(truth_file_training_dir_en+fNameXml):\n",
        "      os.rename(truth_file_training_dir_en+fNameXml, './train_dir_'+language+'/'+label+'/'+fNameTxt )\n",
        "\n",
        "    # use readline() to read next line\n",
        "    line = f.readline()\n",
        "\n",
        "language='es'\n",
        "# Organize ES folders.\n",
        "# Open the file truth.txt with read only permit.\n",
        "f = open(truth_file_training_path_es, \"r\")\n",
        "# use readline() to read the first line \n",
        "line = f.readline()\n",
        "# use the read line to read further.\n",
        "# If the file is not empty keep reading one line\n",
        "# at a time, till the file is empty\n",
        "while line:\n",
        "    # Split line at :::\n",
        "    x = line.split(\":::\")\n",
        "    fNameXml = x[0]+'.xml'\n",
        "    fNameTxt = x[0]+'.txt'\n",
        "    # Second coord [0] gets just the first character (label) and not /n too.\n",
        "    label = x[1][0]\n",
        "\n",
        "    # Now move the file to the right folder.\n",
        "    if os.path.exists(truth_file_training_dir_es+fNameXml):\n",
        "      os.rename(truth_file_training_dir_es+fNameXml, './train_dir_'+language+'/'+label+'/'+fNameTxt )\n",
        "\n",
        "    # use readline() to read next line\n",
        "    line = f.readline()"
      ],
      "metadata": {
        "id": "4kxcJ92-Nkto",
        "execution": {
          "iopub.status.busy": "2022-03-24T10:26:13.002345Z",
          "iopub.execute_input": "2022-03-24T10:26:13.002909Z",
          "iopub.status.idle": "2022-03-24T10:26:13.028512Z",
          "shell.execute_reply.started": "2022-03-24T10:26:13.002864Z",
          "shell.execute_reply": "2022-03-24T10:26:13.027814Z"
        },
        "trusted": true
      },
      "execution_count": 5,
      "outputs": []
    },
    {
      "cell_type": "markdown",
      "source": [
        "## Read truth.txt to organize test dataset folders."
      ],
      "metadata": {
        "id": "xr3aiOLvD_9L"
      }
    },
    {
      "cell_type": "code",
      "source": [
        "#Organize EN folders.\n",
        "language='en'\n",
        "# Open the file truth.txt with read only permit.\n",
        "f = open(truth_file_test_path_en, \"r\")\n",
        "# use readline() to read the first line \n",
        "line = f.readline()\n",
        "# use the read line to read further.\n",
        "# If the file is not empty keep reading one line\n",
        "# at a time, till the file is empty\n",
        "while line:\n",
        "    # Split line at :::\n",
        "    x = line.split(\":::\")\n",
        "    fNameXml = x[0]+'.xml'\n",
        "    fNameTxt = x[0]+'.txt'\n",
        "    # Second coord [0] gets just the first character (label) and not /n too.\n",
        "    label = x[1][0]\n",
        "\n",
        "    # Now move the file to the right folder.\n",
        "    if os.path.exists(truth_file_test_dir+'/'+language+'/'+fNameXml):\n",
        "      os.rename(truth_file_test_dir+'/'+language+'/'+fNameXml, './test_dir_'+language+'/'+label+'/'+fNameTxt )\n",
        "\n",
        "    # use readline() to read next line\n",
        "    line = f.readline()\n",
        "\n",
        "#Organize EN folders.\n",
        "language='es'\n",
        "# Open the file truth.txt with read only permit.\n",
        "f = open(truth_file_test_path_es, \"r\")\n",
        "# use readline() to read the first line \n",
        "line = f.readline()\n",
        "# use the read line to read further.\n",
        "# If the file is not empty keep reading one line\n",
        "# at a time, till the file is empty\n",
        "while line:\n",
        "    # Split line at :::\n",
        "    x = line.split(\":::\")\n",
        "    fNameXml = x[0]+'.xml'\n",
        "    fNameTxt = x[0]+'.txt'\n",
        "    # Second coord [0] gets just the first character (label) and not /n too.\n",
        "    label = x[1][0]\n",
        "\n",
        "    # Now move the file to the right folder.\n",
        "    if os.path.exists(truth_file_test_dir+'/'+language+'/'+fNameXml):\n",
        "      os.rename(truth_file_test_dir+'/'+language+'/'+fNameXml, './test_dir_'+language+'/'+label+'/'+fNameTxt )\n",
        "\n",
        "    # use readline() to read next line\n",
        "    line = f.readline()"
      ],
      "metadata": {
        "id": "XoO-K7LyD5_4",
        "execution": {
          "iopub.status.busy": "2022-03-24T10:26:17.382345Z",
          "iopub.execute_input": "2022-03-24T10:26:17.383022Z",
          "iopub.status.idle": "2022-03-24T10:26:17.404307Z",
          "shell.execute_reply.started": "2022-03-24T10:26:17.382977Z",
          "shell.execute_reply": "2022-03-24T10:26:17.403600Z"
        },
        "trusted": true
      },
      "execution_count": 6,
      "outputs": []
    },
    {
      "cell_type": "markdown",
      "source": [
        "## Function to pre-process source text."
      ],
      "metadata": {
        "id": "ITouXXtQ8WzV"
      }
    },
    {
      "cell_type": "code",
      "source": [
        "def custom_standardization(input_data):\n",
        "  tag_open_CDATA_removed = tf.strings.regex_replace(input_data, '<\\!\\[CDATA\\[', ' ')\n",
        "  tag_closed_CDATA_removed = tf.strings.regex_replace(tag_open_CDATA_removed,'\\]{1,}>', ' ')\n",
        "  tag_author_lang_es_removed = tf.strings.regex_replace(tag_closed_CDATA_removed,'<author lang=\"es\">', ' ')\n",
        "  tag_author_lang_en_removed = tf.strings.regex_replace(tag_author_lang_es_removed,'<author lang=\"en\">', ' ')\n",
        "  tag_closed_author_removed = tf.strings.regex_replace(tag_author_lang_en_removed,'</author>', ' ')\n",
        "  tag_open_documents_removed = tf.strings.regex_replace(tag_closed_author_removed,'<documents>\\n(\\t){0,2}', '')\n",
        "  output_data = tf.strings.regex_replace(tag_open_documents_removed,'</documents>\\n(\\t){0,2}', ' ')\n",
        "  output_data_noHashtag = tf.strings.regex_replace(output_data,'#HASHTAG#', '')\n",
        "  return output_data_noHashtag"
      ],
      "metadata": {
        "id": "bDPIqAgXYWim",
        "execution": {
          "iopub.status.busy": "2022-03-24T10:26:21.034935Z",
          "iopub.execute_input": "2022-03-24T10:26:21.035483Z",
          "iopub.status.idle": "2022-03-24T10:26:21.041742Z",
          "shell.execute_reply.started": "2022-03-24T10:26:21.035443Z",
          "shell.execute_reply": "2022-03-24T10:26:21.040902Z"
        },
        "trusted": true
      },
      "execution_count": 7,
      "outputs": []
    },
    {
      "cell_type": "markdown",
      "source": [
        "## Building the dataset."
      ],
      "metadata": {
        "id": "MRMgBDgsCua6"
      }
    },
    {
      "cell_type": "code",
      "source": [
        "batch_size=1\n",
        "\n",
        "# Build the dataset for Spanish.\n",
        "language='es'\n",
        "\n",
        "raw_train_ds_es = tf.keras.preprocessing.text_dataset_from_directory(\n",
        "    train_dir+language, \n",
        "    batch_size=batch_size, \n",
        "    #validation_split=0.0, \n",
        "    #subset='training', \n",
        "    shuffle='false',\n",
        "    seed=1\n",
        "    )\n",
        "\n",
        "raw_test_ds_es = tf.keras.preprocessing.text_dataset_from_directory(\n",
        "    test_dir+language, \n",
        "    batch_size=batch_size,\n",
        "    shuffle='false'\n",
        "    )\n",
        "\n",
        "\n",
        "# Build the dataset for Spanish.\n",
        "language='en'\n",
        "\n",
        "raw_train_ds_en = tf.keras.preprocessing.text_dataset_from_directory(\n",
        "    train_dir+language, \n",
        "    batch_size=batch_size, \n",
        "    #validation_split=0.0, \n",
        "    #subset='training', \n",
        "    shuffle='false',\n",
        "    seed=1\n",
        "    )\n",
        "\n",
        "raw_test_ds_en = tf.keras.preprocessing.text_dataset_from_directory(\n",
        "    test_dir+language, \n",
        "    batch_size=batch_size,\n",
        "    shuffle='false'\n",
        "    )\n"
      ],
      "metadata": {
        "id": "XEu8rdcQCuHy",
        "outputId": "226861c2-0709-4299-e0f6-c01cd7522e83",
        "execution": {
          "iopub.status.busy": "2022-03-24T10:26:23.683311Z",
          "iopub.execute_input": "2022-03-24T10:26:23.683913Z",
          "iopub.status.idle": "2022-03-24T10:26:28.993346Z",
          "shell.execute_reply.started": "2022-03-24T10:26:23.683872Z",
          "shell.execute_reply": "2022-03-24T10:26:28.992648Z"
        },
        "trusted": true,
        "colab": {
          "base_uri": "https://localhost:8080/"
        }
      },
      "execution_count": 8,
      "outputs": [
        {
          "output_type": "stream",
          "name": "stdout",
          "text": [
            "Found 300 files belonging to 2 classes.\n",
            "Found 200 files belonging to 2 classes.\n",
            "Found 300 files belonging to 2 classes.\n",
            "Found 200 files belonging to 2 classes.\n"
          ]
        }
      ]
    },
    {
      "cell_type": "markdown",
      "source": [
        "## First model's layer: Text Vectorization."
      ],
      "metadata": {
        "id": "xmWtRjh18LcV"
      }
    },
    {
      "cell_type": "code",
      "source": [
        "# Maximum number of words allowed 80000 in our dictionary.\n",
        "max_features = 80000\n",
        "# After tokenization 4500 covers all the document lenghts in our dataset.\n",
        "sequence_length = 4500\n",
        "\n",
        "vectorize_layer_es = TextVectorization(\n",
        "    standardize=custom_standardization,\n",
        "    max_tokens=max_features,\n",
        "    output_mode='int',\n",
        "    output_sequence_length=sequence_length)\n",
        "\n",
        "vectorize_layer_en = TextVectorization(\n",
        "    standardize=custom_standardization,\n",
        "    max_tokens=max_features,\n",
        "    output_mode='int',\n",
        "    output_sequence_length=sequence_length)\n",
        "\n",
        "train_text = raw_train_ds_en.map(lambda x, y: x)\n",
        "vectorize_layer_en.adapt(train_text)\n",
        "\n",
        "train_text = raw_train_ds_es.map(lambda x, y: x)\n",
        "vectorize_layer_es.adapt(train_text)"
      ],
      "metadata": {
        "execution": {
          "iopub.status.busy": "2022-03-24T10:26:29.609580Z",
          "iopub.execute_input": "2022-03-24T10:26:29.610089Z",
          "iopub.status.idle": "2022-03-24T10:26:29.643172Z",
          "shell.execute_reply.started": "2022-03-24T10:26:29.610048Z",
          "shell.execute_reply": "2022-03-24T10:26:29.642547Z"
        },
        "trusted": true,
        "id": "0ZvYUduJfT8x"
      },
      "execution_count": 10,
      "outputs": []
    },
    {
      "cell_type": "markdown",
      "source": [
        "## Some training parameters..."
      ],
      "metadata": {
        "id": "VgvX5p5QB24X"
      }
    },
    {
      "cell_type": "code",
      "source": [
        "# Word embedding dimensions.\n",
        "embedding_dim = 500\n",
        "\n",
        "num_runs = 5 \n",
        "num_epochs_per_run = 10\n",
        "\n",
        "opt = tf.keras.optimizers.RMSprop()"
      ],
      "metadata": {
        "execution": {
          "iopub.status.busy": "2022-03-24T10:26:33.928115Z",
          "iopub.execute_input": "2022-03-24T10:26:33.928370Z",
          "iopub.status.idle": "2022-03-24T10:26:33.935048Z",
          "shell.execute_reply.started": "2022-03-24T10:26:33.928342Z",
          "shell.execute_reply": "2022-03-24T10:26:33.934256Z"
        },
        "trusted": true,
        "id": "jONJTaWffT8z"
      },
      "execution_count": 13,
      "outputs": []
    },
    {
      "cell_type": "markdown",
      "source": [
        "## Training and evaluation of English model"
      ],
      "metadata": {
        "id": "hVY7v48weKX8"
      }
    },
    {
      "cell_type": "code",
      "source": [
        "runs_accuracy = []\n",
        "for run in range(1,(num_runs+1)):\n",
        "    epochs_accuracy=[]\n",
        "    model_en = tf.keras.Sequential([\n",
        "                                    tf.keras.Input(shape=(1,), dtype=tf.string),\n",
        "                                    vectorize_layer_en,\n",
        "                                    layers.Embedding(max_features + 1, embedding_dim),                     \n",
        "                                    layers.Dropout(0.8),\n",
        "\n",
        "                                    layers.Conv1D(256,16,activation='relu'),\n",
        "                                    layers.MaxPooling1D(),\n",
        "                                    layers.Dropout(0.6),\n",
        "\n",
        "                                    layers.Dense(512,activation='relu'),\n",
        "                           \n",
        "                                    layers.GlobalAveragePooling1D(),\n",
        "                                    layers.Dropout(0.2),\n",
        "                                    layers.Dense(1)                            \n",
        "    ])\n",
        "    model_en.compile(loss=losses.BinaryCrossentropy(from_logits=True), optimizer=opt, metrics=tf.metrics.BinaryAccuracy(threshold=0.0)) \n",
        "\n",
        "    for epoch in range (0,num_epochs_per_run):\n",
        "        history = model_en.fit(\n",
        "          raw_train_ds_en,\n",
        "          validation_data = raw_test_ds_en,\n",
        "          epochs=1,\n",
        "          shuffle=False,\n",
        "          # Comment the following line to do not save and download the model.\n",
        "          #callbacks=[callbacks]\n",
        "          )\n",
        "        accuracy = history.history['val_binary_accuracy']\n",
        "        print(\"Run: \",run,\"/ Accuracy at epoch \",epoch,\" is: \", accuracy[0],\"\\n\")\n",
        "        epochs_accuracy.append(accuracy[0])\n",
        "\n",
        "    print(\"Accuracies over epochs:\",epochs_accuracy,\"\\n\\n\")\n",
        "    runs_accuracy.append(max(epochs_accuracy))\n",
        "\n",
        "runs_accuracy.sort()\n",
        "print(\"\\n\\n Over all runs maximum accuracies on English are:\", runs_accuracy)\n",
        "print(\"The median for English is:\",runs_accuracy[2],\"\\n\\n\\n\")\n"
      ],
      "metadata": {
        "id": "45Ip8xOYeLJy",
        "outputId": "a75f16cc-cea8-4680-930f-cd1484a57279",
        "execution": {
          "iopub.status.busy": "2022-03-24T10:30:55.743097Z",
          "iopub.execute_input": "2022-03-24T10:30:55.743595Z",
          "iopub.status.idle": "2022-03-24T10:31:01.670576Z",
          "shell.execute_reply.started": "2022-03-24T10:30:55.743557Z",
          "shell.execute_reply": "2022-03-24T10:31:01.669574Z"
        },
        "trusted": true,
        "colab": {
          "base_uri": "https://localhost:8080/"
        }
      },
      "execution_count": 14,
      "outputs": [
        {
          "output_type": "stream",
          "name": "stdout",
          "text": [
            "300/300 [==============================] - 11s 33ms/step - loss: 0.7290 - binary_accuracy: 0.4900 - val_loss: 0.7362 - val_binary_accuracy: 0.5450\n",
            "Run:  1 / Accuracy at epoch  0  is:  0.5450000166893005 \n",
            "\n",
            "300/300 [==============================] - 10s 32ms/step - loss: 0.5797 - binary_accuracy: 0.7200 - val_loss: 0.8089 - val_binary_accuracy: 0.6950\n",
            "Run:  1 / Accuracy at epoch  1  is:  0.6949999928474426 \n",
            "\n",
            "300/300 [==============================] - 10s 32ms/step - loss: 0.3688 - binary_accuracy: 0.8667 - val_loss: 1.0470 - val_binary_accuracy: 0.6850\n",
            "Run:  1 / Accuracy at epoch  2  is:  0.6850000023841858 \n",
            "\n",
            "300/300 [==============================] - 10s 33ms/step - loss: 0.2044 - binary_accuracy: 0.9267 - val_loss: 1.9169 - val_binary_accuracy: 0.6700\n",
            "Run:  1 / Accuracy at epoch  3  is:  0.6700000166893005 \n",
            "\n",
            "300/300 [==============================] - 10s 32ms/step - loss: 0.1243 - binary_accuracy: 0.9567 - val_loss: 2.2741 - val_binary_accuracy: 0.6450\n",
            "Run:  1 / Accuracy at epoch  4  is:  0.6449999809265137 \n",
            "\n",
            "300/300 [==============================] - 10s 33ms/step - loss: 0.0923 - binary_accuracy: 0.9767 - val_loss: 2.0209 - val_binary_accuracy: 0.7050\n",
            "Run:  1 / Accuracy at epoch  5  is:  0.7049999833106995 \n",
            "\n",
            "300/300 [==============================] - 10s 33ms/step - loss: 0.0258 - binary_accuracy: 0.9900 - val_loss: 3.1164 - val_binary_accuracy: 0.6500\n",
            "Run:  1 / Accuracy at epoch  6  is:  0.6499999761581421 \n",
            "\n",
            "300/300 [==============================] - 10s 33ms/step - loss: 0.0482 - binary_accuracy: 0.9833 - val_loss: 2.7625 - val_binary_accuracy: 0.6750\n",
            "Run:  1 / Accuracy at epoch  7  is:  0.675000011920929 \n",
            "\n",
            "300/300 [==============================] - 10s 32ms/step - loss: 0.0411 - binary_accuracy: 0.9933 - val_loss: 3.3740 - val_binary_accuracy: 0.6700\n",
            "Run:  1 / Accuracy at epoch  8  is:  0.6700000166893005 \n",
            "\n",
            "300/300 [==============================] - 10s 32ms/step - loss: 0.0326 - binary_accuracy: 0.9933 - val_loss: 3.5836 - val_binary_accuracy: 0.6200\n",
            "Run:  1 / Accuracy at epoch  9  is:  0.6200000047683716 \n",
            "\n",
            "Accuracies over epochs: [0.5450000166893005, 0.6949999928474426, 0.6850000023841858, 0.6700000166893005, 0.6449999809265137, 0.7049999833106995, 0.6499999761581421, 0.675000011920929, 0.6700000166893005, 0.6200000047683716] \n",
            "\n",
            "\n",
            "300/300 [==============================] - 11s 33ms/step - loss: 0.7343 - binary_accuracy: 0.4600 - val_loss: 0.7516 - val_binary_accuracy: 0.5400\n",
            "Run:  2 / Accuracy at epoch  0  is:  0.5400000214576721 \n",
            "\n",
            "300/300 [==============================] - 10s 32ms/step - loss: 0.5982 - binary_accuracy: 0.7167 - val_loss: 0.8613 - val_binary_accuracy: 0.7000\n",
            "Run:  2 / Accuracy at epoch  1  is:  0.699999988079071 \n",
            "\n",
            "300/300 [==============================] - 10s 32ms/step - loss: 0.4041 - binary_accuracy: 0.8467 - val_loss: 1.1771 - val_binary_accuracy: 0.6900\n",
            "Run:  2 / Accuracy at epoch  2  is:  0.6899999976158142 \n",
            "\n",
            "300/300 [==============================] - 10s 33ms/step - loss: 0.2543 - binary_accuracy: 0.9033 - val_loss: 1.5508 - val_binary_accuracy: 0.6700\n",
            "Run:  2 / Accuracy at epoch  3  is:  0.6700000166893005 \n",
            "\n",
            "300/300 [==============================] - 10s 33ms/step - loss: 0.1469 - binary_accuracy: 0.9467 - val_loss: 1.9654 - val_binary_accuracy: 0.6650\n",
            "Run:  2 / Accuracy at epoch  4  is:  0.6650000214576721 \n",
            "\n",
            "300/300 [==============================] - 10s 33ms/step - loss: 0.0605 - binary_accuracy: 0.9767 - val_loss: 2.4854 - val_binary_accuracy: 0.6700\n",
            "Run:  2 / Accuracy at epoch  5  is:  0.6700000166893005 \n",
            "\n",
            "300/300 [==============================] - 10s 33ms/step - loss: 0.0396 - binary_accuracy: 0.9900 - val_loss: 2.9688 - val_binary_accuracy: 0.6400\n",
            "Run:  2 / Accuracy at epoch  6  is:  0.6399999856948853 \n",
            "\n",
            "300/300 [==============================] - 10s 32ms/step - loss: 0.0352 - binary_accuracy: 0.9867 - val_loss: 3.5084 - val_binary_accuracy: 0.6250\n",
            "Run:  2 / Accuracy at epoch  7  is:  0.625 \n",
            "\n",
            "300/300 [==============================] - 10s 32ms/step - loss: 0.0203 - binary_accuracy: 0.9933 - val_loss: 4.6501 - val_binary_accuracy: 0.6000\n",
            "Run:  2 / Accuracy at epoch  8  is:  0.6000000238418579 \n",
            "\n",
            "300/300 [==============================] - 10s 32ms/step - loss: 0.0169 - binary_accuracy: 0.9933 - val_loss: 5.9169 - val_binary_accuracy: 0.5600\n",
            "Run:  2 / Accuracy at epoch  9  is:  0.5600000023841858 \n",
            "\n",
            "Accuracies over epochs: [0.5400000214576721, 0.699999988079071, 0.6899999976158142, 0.6700000166893005, 0.6650000214576721, 0.6700000166893005, 0.6399999856948853, 0.625, 0.6000000238418579, 0.5600000023841858] \n",
            "\n",
            "\n",
            "300/300 [==============================] - 11s 33ms/step - loss: 0.7320 - binary_accuracy: 0.5133 - val_loss: 0.7053 - val_binary_accuracy: 0.5600\n",
            "Run:  3 / Accuracy at epoch  0  is:  0.5600000023841858 \n",
            "\n",
            "300/300 [==============================] - 10s 33ms/step - loss: 0.5563 - binary_accuracy: 0.7100 - val_loss: 0.8819 - val_binary_accuracy: 0.6700\n",
            "Run:  3 / Accuracy at epoch  1  is:  0.6700000166893005 \n",
            "\n",
            "300/300 [==============================] - 10s 33ms/step - loss: 0.4241 - binary_accuracy: 0.8133 - val_loss: 1.0036 - val_binary_accuracy: 0.7000\n",
            "Run:  3 / Accuracy at epoch  2  is:  0.699999988079071 \n",
            "\n",
            "300/300 [==============================] - 10s 33ms/step - loss: 0.2388 - binary_accuracy: 0.9200 - val_loss: 1.5889 - val_binary_accuracy: 0.6800\n",
            "Run:  3 / Accuracy at epoch  3  is:  0.6800000071525574 \n",
            "\n",
            "300/300 [==============================] - 10s 33ms/step - loss: 0.1664 - binary_accuracy: 0.9533 - val_loss: 1.9938 - val_binary_accuracy: 0.6600\n",
            "Run:  3 / Accuracy at epoch  4  is:  0.6600000262260437 \n",
            "\n",
            "300/300 [==============================] - 10s 33ms/step - loss: 0.0837 - binary_accuracy: 0.9733 - val_loss: 2.3456 - val_binary_accuracy: 0.6500\n",
            "Run:  3 / Accuracy at epoch  5  is:  0.6499999761581421 \n",
            "\n",
            "300/300 [==============================] - 10s 33ms/step - loss: 0.0508 - binary_accuracy: 0.9767 - val_loss: 2.1928 - val_binary_accuracy: 0.6900\n",
            "Run:  3 / Accuracy at epoch  6  is:  0.6899999976158142 \n",
            "\n",
            "300/300 [==============================] - 10s 33ms/step - loss: 0.0189 - binary_accuracy: 0.9867 - val_loss: 4.3229 - val_binary_accuracy: 0.6200\n",
            "Run:  3 / Accuracy at epoch  7  is:  0.6200000047683716 \n",
            "\n",
            "300/300 [==============================] - 10s 33ms/step - loss: 0.0356 - binary_accuracy: 0.9900 - val_loss: 6.3808 - val_binary_accuracy: 0.5450\n",
            "Run:  3 / Accuracy at epoch  8  is:  0.5450000166893005 \n",
            "\n",
            "300/300 [==============================] - 10s 32ms/step - loss: 0.0207 - binary_accuracy: 0.9933 - val_loss: 4.7422 - val_binary_accuracy: 0.5950\n",
            "Run:  3 / Accuracy at epoch  9  is:  0.5950000286102295 \n",
            "\n",
            "Accuracies over epochs: [0.5600000023841858, 0.6700000166893005, 0.699999988079071, 0.6800000071525574, 0.6600000262260437, 0.6499999761581421, 0.6899999976158142, 0.6200000047683716, 0.5450000166893005, 0.5950000286102295] \n",
            "\n",
            "\n",
            "300/300 [==============================] - 11s 33ms/step - loss: 0.7305 - binary_accuracy: 0.5233 - val_loss: 0.6753 - val_binary_accuracy: 0.5950\n",
            "Run:  4 / Accuracy at epoch  0  is:  0.5950000286102295 \n",
            "\n",
            "300/300 [==============================] - 10s 32ms/step - loss: 0.5643 - binary_accuracy: 0.7167 - val_loss: 0.9509 - val_binary_accuracy: 0.6650\n",
            "Run:  4 / Accuracy at epoch  1  is:  0.6650000214576721 \n",
            "\n",
            "300/300 [==============================] - 10s 33ms/step - loss: 0.4086 - binary_accuracy: 0.8167 - val_loss: 0.9702 - val_binary_accuracy: 0.7000\n",
            "Run:  4 / Accuracy at epoch  2  is:  0.699999988079071 \n",
            "\n",
            "300/300 [==============================] - 10s 33ms/step - loss: 0.2273 - binary_accuracy: 0.9233 - val_loss: 2.4451 - val_binary_accuracy: 0.6100\n",
            "Run:  4 / Accuracy at epoch  3  is:  0.6100000143051147 \n",
            "\n",
            "300/300 [==============================] - 10s 32ms/step - loss: 0.1661 - binary_accuracy: 0.9567 - val_loss: 2.0372 - val_binary_accuracy: 0.6550\n",
            "Run:  4 / Accuracy at epoch  4  is:  0.6549999713897705 \n",
            "\n",
            "300/300 [==============================] - 10s 32ms/step - loss: 0.0958 - binary_accuracy: 0.9767 - val_loss: 2.9582 - val_binary_accuracy: 0.6250\n",
            "Run:  4 / Accuracy at epoch  5  is:  0.625 \n",
            "\n",
            "300/300 [==============================] - 10s 32ms/step - loss: 0.0434 - binary_accuracy: 0.9867 - val_loss: 3.2797 - val_binary_accuracy: 0.6400\n",
            "Run:  4 / Accuracy at epoch  6  is:  0.6399999856948853 \n",
            "\n",
            "300/300 [==============================] - 10s 32ms/step - loss: 0.0485 - binary_accuracy: 0.9900 - val_loss: 4.2204 - val_binary_accuracy: 0.6150\n",
            "Run:  4 / Accuracy at epoch  7  is:  0.6150000095367432 \n",
            "\n",
            "300/300 [==============================] - 10s 32ms/step - loss: 0.0422 - binary_accuracy: 0.9900 - val_loss: 4.6014 - val_binary_accuracy: 0.5950\n",
            "Run:  4 / Accuracy at epoch  8  is:  0.5950000286102295 \n",
            "\n",
            "300/300 [==============================] - 10s 33ms/step - loss: 0.0399 - binary_accuracy: 0.9933 - val_loss: 4.3908 - val_binary_accuracy: 0.6200\n",
            "Run:  4 / Accuracy at epoch  9  is:  0.6200000047683716 \n",
            "\n",
            "Accuracies over epochs: [0.5950000286102295, 0.6650000214576721, 0.699999988079071, 0.6100000143051147, 0.6549999713897705, 0.625, 0.6399999856948853, 0.6150000095367432, 0.5950000286102295, 0.6200000047683716] \n",
            "\n",
            "\n",
            "300/300 [==============================] - 11s 33ms/step - loss: 0.7270 - binary_accuracy: 0.4233 - val_loss: 0.6778 - val_binary_accuracy: 0.5900\n",
            "Run:  5 / Accuracy at epoch  0  is:  0.5899999737739563 \n",
            "\n",
            "300/300 [==============================] - 10s 32ms/step - loss: 0.5928 - binary_accuracy: 0.6933 - val_loss: 0.8579 - val_binary_accuracy: 0.6800\n",
            "Run:  5 / Accuracy at epoch  1  is:  0.6800000071525574 \n",
            "\n",
            "300/300 [==============================] - 10s 32ms/step - loss: 0.3940 - binary_accuracy: 0.8367 - val_loss: 1.0384 - val_binary_accuracy: 0.6750\n",
            "Run:  5 / Accuracy at epoch  2  is:  0.675000011920929 \n",
            "\n",
            "300/300 [==============================] - 10s 33ms/step - loss: 0.2418 - binary_accuracy: 0.9167 - val_loss: 1.4580 - val_binary_accuracy: 0.7000\n",
            "Run:  5 / Accuracy at epoch  3  is:  0.699999988079071 \n",
            "\n",
            "300/300 [==============================] - 10s 32ms/step - loss: 0.1491 - binary_accuracy: 0.9500 - val_loss: 1.8229 - val_binary_accuracy: 0.6900\n",
            "Run:  5 / Accuracy at epoch  4  is:  0.6899999976158142 \n",
            "\n",
            "300/300 [==============================] - 10s 32ms/step - loss: 0.0881 - binary_accuracy: 0.9700 - val_loss: 2.0543 - val_binary_accuracy: 0.7000\n",
            "Run:  5 / Accuracy at epoch  5  is:  0.699999988079071 \n",
            "\n",
            "300/300 [==============================] - 10s 33ms/step - loss: 0.0519 - binary_accuracy: 0.9867 - val_loss: 2.6998 - val_binary_accuracy: 0.6850\n",
            "Run:  5 / Accuracy at epoch  6  is:  0.6850000023841858 \n",
            "\n",
            "300/300 [==============================] - 10s 32ms/step - loss: 0.0377 - binary_accuracy: 0.9867 - val_loss: 3.1619 - val_binary_accuracy: 0.6100\n",
            "Run:  5 / Accuracy at epoch  7  is:  0.6100000143051147 \n",
            "\n",
            "300/300 [==============================] - 10s 32ms/step - loss: 0.0500 - binary_accuracy: 0.9867 - val_loss: 3.3354 - val_binary_accuracy: 0.6100\n",
            "Run:  5 / Accuracy at epoch  8  is:  0.6100000143051147 \n",
            "\n",
            "300/300 [==============================] - 10s 32ms/step - loss: 0.0410 - binary_accuracy: 0.9933 - val_loss: 3.1779 - val_binary_accuracy: 0.6450\n",
            "Run:  5 / Accuracy at epoch  9  is:  0.6449999809265137 \n",
            "\n",
            "Accuracies over epochs: [0.5899999737739563, 0.6800000071525574, 0.675000011920929, 0.699999988079071, 0.6899999976158142, 0.699999988079071, 0.6850000023841858, 0.6100000143051147, 0.6100000143051147, 0.6449999809265137] \n",
            "\n",
            "\n",
            "\n",
            "\n",
            " Over all runs maximum accuracies on English are: [0.699999988079071, 0.699999988079071, 0.699999988079071, 0.699999988079071, 0.7049999833106995]\n",
            "The median for English is: 0.699999988079071 \n",
            "\n",
            "\n",
            "\n"
          ]
        }
      ]
    },
    {
      "cell_type": "markdown",
      "source": [
        "## Training and evaluation of Spanish model"
      ],
      "metadata": {
        "id": "xTlJ0DHpkx45"
      }
    },
    {
      "cell_type": "code",
      "source": [
        "runs_accuracy = []\n",
        "for run in range(1,(num_runs+1)):\n",
        "    epochs_accuracy=[]\n",
        "    model_es = tf.keras.Sequential([\n",
        "                                    tf.keras.Input(shape=(1,), dtype=tf.string),\n",
        "                                    vectorize_layer_es,\n",
        "                                    layers.Embedding(max_features + 1, embedding_dim),                     \n",
        "                                    layers.Dropout(0.8),\n",
        "\n",
        "                                    layers.Conv1D(256,16,activation='relu'),\n",
        "                                    layers.MaxPooling1D(),\n",
        "                                    layers.Dropout(0.6),\n",
        "\n",
        "                                    layers.Dense(512,activation='relu'),\n",
        "                           \n",
        "                                    layers.GlobalAveragePooling1D(),\n",
        "                                    layers.Dropout(0.2),\n",
        "                                    layers.Dense(1)                            \n",
        "    ])\n",
        "    model_es.compile(loss=losses.BinaryCrossentropy(from_logits=True), optimizer=opt, metrics=tf.metrics.BinaryAccuracy(threshold=0.0)) \n",
        "\n",
        "    for epoch in range (0,num_epochs_per_run):\n",
        "        history = model_es.fit(\n",
        "          raw_train_ds_es,\n",
        "          validation_data = raw_test_ds_es,\n",
        "          epochs=1,\n",
        "          shuffle=False,\n",
        "          # Comment the following line to do not save and download the model.\n",
        "          #callbacks=[callbacks]\n",
        "          )\n",
        "        accuracy = history.history['val_binary_accuracy']\n",
        "        print(\"Run: \",run,\"/ Accuracy at epoch \",epoch,\" is: \", accuracy[0],\"\\n\")\n",
        "        epochs_accuracy.append(accuracy[0])\n",
        "\n",
        "    print(\"Accuracies over epochs:\",epochs_accuracy,\"\\n\\n\")\n",
        "    runs_accuracy.append(max(epochs_accuracy))\n",
        "\n",
        "runs_accuracy.sort()\n",
        "print(\"\\n\\n Over all runs maximum accuracies on Spanish are:\", runs_accuracy)\n",
        "print(\"The median for Spanish is:\",runs_accuracy[2],\"\\n\\n\\n\")\n"
      ],
      "metadata": {
        "id": "KW7D258fkz0T",
        "outputId": "a093a8f2-7ec7-4a89-bfad-05b55dab3d40",
        "colab": {
          "base_uri": "https://localhost:8080/"
        }
      },
      "execution_count": 15,
      "outputs": [
        {
          "output_type": "stream",
          "name": "stdout",
          "text": [
            "300/300 [==============================] - 11s 33ms/step - loss: 0.7050 - binary_accuracy: 0.6167 - val_loss: 0.6099 - val_binary_accuracy: 0.6500\n",
            "Run:  1 / Accuracy at epoch  0  is:  0.6499999761581421 \n",
            "\n",
            "300/300 [==============================] - 10s 32ms/step - loss: 0.5351 - binary_accuracy: 0.7533 - val_loss: 0.5504 - val_binary_accuracy: 0.7200\n",
            "Run:  1 / Accuracy at epoch  1  is:  0.7200000286102295 \n",
            "\n",
            "300/300 [==============================] - 10s 33ms/step - loss: 0.3009 - binary_accuracy: 0.8700 - val_loss: 0.5121 - val_binary_accuracy: 0.7800\n",
            "Run:  1 / Accuracy at epoch  2  is:  0.7799999713897705 \n",
            "\n",
            "300/300 [==============================] - 10s 33ms/step - loss: 0.1079 - binary_accuracy: 0.9700 - val_loss: 0.7142 - val_binary_accuracy: 0.8000\n",
            "Run:  1 / Accuracy at epoch  3  is:  0.800000011920929 \n",
            "\n",
            "300/300 [==============================] - 10s 33ms/step - loss: 0.0696 - binary_accuracy: 0.9767 - val_loss: 0.9484 - val_binary_accuracy: 0.7700\n",
            "Run:  1 / Accuracy at epoch  4  is:  0.7699999809265137 \n",
            "\n",
            "300/300 [==============================] - 10s 33ms/step - loss: 0.0463 - binary_accuracy: 0.9967 - val_loss: 1.2117 - val_binary_accuracy: 0.7850\n",
            "Run:  1 / Accuracy at epoch  5  is:  0.7850000262260437 \n",
            "\n",
            "300/300 [==============================] - 10s 32ms/step - loss: 6.0451e-04 - binary_accuracy: 1.0000 - val_loss: 1.5782 - val_binary_accuracy: 0.7700\n",
            "Run:  1 / Accuracy at epoch  6  is:  0.7699999809265137 \n",
            "\n",
            "300/300 [==============================] - 10s 32ms/step - loss: 1.1612e-04 - binary_accuracy: 1.0000 - val_loss: 1.6714 - val_binary_accuracy: 0.7750\n",
            "Run:  1 / Accuracy at epoch  7  is:  0.7749999761581421 \n",
            "\n",
            "300/300 [==============================] - 10s 32ms/step - loss: 2.6434e-08 - binary_accuracy: 1.0000 - val_loss: 1.7547 - val_binary_accuracy: 0.7850\n",
            "Run:  1 / Accuracy at epoch  8  is:  0.7850000262260437 \n",
            "\n",
            "300/300 [==============================] - 10s 32ms/step - loss: 5.1540e-09 - binary_accuracy: 1.0000 - val_loss: 2.1482 - val_binary_accuracy: 0.7400\n",
            "Run:  1 / Accuracy at epoch  9  is:  0.7400000095367432 \n",
            "\n",
            "Accuracies over epochs: [0.6499999761581421, 0.7200000286102295, 0.7799999713897705, 0.800000011920929, 0.7699999809265137, 0.7850000262260437, 0.7699999809265137, 0.7749999761581421, 0.7850000262260437, 0.7400000095367432] \n",
            "\n",
            "\n",
            "300/300 [==============================] - 11s 33ms/step - loss: 0.7209 - binary_accuracy: 0.6233 - val_loss: 0.5894 - val_binary_accuracy: 0.6950\n",
            "Run:  2 / Accuracy at epoch  0  is:  0.6949999928474426 \n",
            "\n",
            "300/300 [==============================] - 10s 32ms/step - loss: 0.5114 - binary_accuracy: 0.7800 - val_loss: 0.4561 - val_binary_accuracy: 0.7650\n",
            "Run:  2 / Accuracy at epoch  1  is:  0.7649999856948853 \n",
            "\n",
            "300/300 [==============================] - 10s 33ms/step - loss: 0.2726 - binary_accuracy: 0.9000 - val_loss: 0.5254 - val_binary_accuracy: 0.7850\n",
            "Run:  2 / Accuracy at epoch  2  is:  0.7850000262260437 \n",
            "\n",
            "300/300 [==============================] - 10s 33ms/step - loss: 0.1456 - binary_accuracy: 0.9667 - val_loss: 0.7301 - val_binary_accuracy: 0.7700\n",
            "Run:  2 / Accuracy at epoch  3  is:  0.7699999809265137 \n",
            "\n",
            "300/300 [==============================] - 10s 32ms/step - loss: 0.0435 - binary_accuracy: 0.9800 - val_loss: 0.9050 - val_binary_accuracy: 0.7600\n",
            "Run:  2 / Accuracy at epoch  4  is:  0.7599999904632568 \n",
            "\n",
            "300/300 [==============================] - 10s 32ms/step - loss: 0.0030 - binary_accuracy: 1.0000 - val_loss: 1.1441 - val_binary_accuracy: 0.8000\n",
            "Run:  2 / Accuracy at epoch  5  is:  0.800000011920929 \n",
            "\n",
            "300/300 [==============================] - 10s 32ms/step - loss: 0.0075 - binary_accuracy: 0.9967 - val_loss: 1.6491 - val_binary_accuracy: 0.7450\n",
            "Run:  2 / Accuracy at epoch  6  is:  0.7450000047683716 \n",
            "\n",
            "300/300 [==============================] - 10s 33ms/step - loss: 0.0307 - binary_accuracy: 0.9967 - val_loss: 1.5099 - val_binary_accuracy: 0.8100\n",
            "Run:  2 / Accuracy at epoch  7  is:  0.8100000023841858 \n",
            "\n",
            "300/300 [==============================] - 10s 32ms/step - loss: 1.1940e-04 - binary_accuracy: 1.0000 - val_loss: 2.0153 - val_binary_accuracy: 0.7800\n",
            "Run:  2 / Accuracy at epoch  8  is:  0.7799999713897705 \n",
            "\n",
            "300/300 [==============================] - 10s 32ms/step - loss: 0.0087 - binary_accuracy: 0.9967 - val_loss: 1.5524 - val_binary_accuracy: 0.8050\n",
            "Run:  2 / Accuracy at epoch  9  is:  0.8050000071525574 \n",
            "\n",
            "Accuracies over epochs: [0.6949999928474426, 0.7649999856948853, 0.7850000262260437, 0.7699999809265137, 0.7599999904632568, 0.800000011920929, 0.7450000047683716, 0.8100000023841858, 0.7799999713897705, 0.8050000071525574] \n",
            "\n",
            "\n",
            "300/300 [==============================] - 11s 33ms/step - loss: 0.6963 - binary_accuracy: 0.6067 - val_loss: 0.6009 - val_binary_accuracy: 0.6750\n",
            "Run:  3 / Accuracy at epoch  0  is:  0.675000011920929 \n",
            "\n",
            "300/300 [==============================] - 10s 33ms/step - loss: 0.5582 - binary_accuracy: 0.7600 - val_loss: 0.7134 - val_binary_accuracy: 0.6600\n",
            "Run:  3 / Accuracy at epoch  1  is:  0.6600000262260437 \n",
            "\n",
            "300/300 [==============================] - 10s 33ms/step - loss: 0.3323 - binary_accuracy: 0.8833 - val_loss: 0.5269 - val_binary_accuracy: 0.7750\n",
            "Run:  3 / Accuracy at epoch  2  is:  0.7749999761581421 \n",
            "\n",
            "300/300 [==============================] - 10s 33ms/step - loss: 0.1452 - binary_accuracy: 0.9433 - val_loss: 0.6897 - val_binary_accuracy: 0.7950\n",
            "Run:  3 / Accuracy at epoch  3  is:  0.7950000166893005 \n",
            "\n",
            "300/300 [==============================] - 10s 33ms/step - loss: 0.0455 - binary_accuracy: 0.9833 - val_loss: 0.9435 - val_binary_accuracy: 0.7950\n",
            "Run:  3 / Accuracy at epoch  4  is:  0.7950000166893005 \n",
            "\n",
            "300/300 [==============================] - 10s 33ms/step - loss: 0.0103 - binary_accuracy: 0.9967 - val_loss: 1.1979 - val_binary_accuracy: 0.7700\n",
            "Run:  3 / Accuracy at epoch  5  is:  0.7699999809265137 \n",
            "\n",
            "300/300 [==============================] - 10s 32ms/step - loss: 0.0039 - binary_accuracy: 0.9967 - val_loss: 1.5558 - val_binary_accuracy: 0.7950\n",
            "Run:  3 / Accuracy at epoch  6  is:  0.7950000166893005 \n",
            "\n",
            "300/300 [==============================] - 10s 32ms/step - loss: 3.4835e-04 - binary_accuracy: 1.0000 - val_loss: 1.5572 - val_binary_accuracy: 0.7950\n",
            "Run:  3 / Accuracy at epoch  7  is:  0.7950000166893005 \n",
            "\n",
            "300/300 [==============================] - 10s 32ms/step - loss: 1.5699e-05 - binary_accuracy: 1.0000 - val_loss: 5.2402 - val_binary_accuracy: 0.6450\n",
            "Run:  3 / Accuracy at epoch  8  is:  0.6449999809265137 \n",
            "\n",
            "300/300 [==============================] - 10s 32ms/step - loss: 1.8027e-04 - binary_accuracy: 1.0000 - val_loss: 2.2378 - val_binary_accuracy: 0.7800\n",
            "Run:  3 / Accuracy at epoch  9  is:  0.7799999713897705 \n",
            "\n",
            "Accuracies over epochs: [0.675000011920929, 0.6600000262260437, 0.7749999761581421, 0.7950000166893005, 0.7950000166893005, 0.7699999809265137, 0.7950000166893005, 0.7950000166893005, 0.6449999809265137, 0.7799999713897705] \n",
            "\n",
            "\n",
            "300/300 [==============================] - 11s 33ms/step - loss: 0.7149 - binary_accuracy: 0.6433 - val_loss: 0.5829 - val_binary_accuracy: 0.6850\n",
            "Run:  4 / Accuracy at epoch  0  is:  0.6850000023841858 \n",
            "\n",
            "300/300 [==============================] - 10s 33ms/step - loss: 0.5040 - binary_accuracy: 0.7567 - val_loss: 0.5587 - val_binary_accuracy: 0.6800\n",
            "Run:  4 / Accuracy at epoch  1  is:  0.6800000071525574 \n",
            "\n",
            "300/300 [==============================] - 10s 33ms/step - loss: 0.3174 - binary_accuracy: 0.8767 - val_loss: 0.5236 - val_binary_accuracy: 0.7750\n",
            "Run:  4 / Accuracy at epoch  2  is:  0.7749999761581421 \n",
            "\n",
            "300/300 [==============================] - 10s 32ms/step - loss: 0.1336 - binary_accuracy: 0.9533 - val_loss: 0.9194 - val_binary_accuracy: 0.7850\n",
            "Run:  4 / Accuracy at epoch  3  is:  0.7850000262260437 \n",
            "\n",
            "300/300 [==============================] - 10s 32ms/step - loss: 0.0723 - binary_accuracy: 0.9633 - val_loss: 0.7908 - val_binary_accuracy: 0.7850\n",
            "Run:  4 / Accuracy at epoch  4  is:  0.7850000262260437 \n",
            "\n",
            "300/300 [==============================] - 10s 32ms/step - loss: 0.0213 - binary_accuracy: 0.9967 - val_loss: 1.0973 - val_binary_accuracy: 0.8150\n",
            "Run:  4 / Accuracy at epoch  5  is:  0.8149999976158142 \n",
            "\n",
            "300/300 [==============================] - 10s 32ms/step - loss: 0.0110 - binary_accuracy: 0.9967 - val_loss: 1.1155 - val_binary_accuracy: 0.8050\n",
            "Run:  4 / Accuracy at epoch  6  is:  0.8050000071525574 \n",
            "\n",
            "300/300 [==============================] - 10s 32ms/step - loss: 4.3457e-05 - binary_accuracy: 1.0000 - val_loss: 1.5263 - val_binary_accuracy: 0.8000\n",
            "Run:  4 / Accuracy at epoch  7  is:  0.800000011920929 \n",
            "\n",
            "300/300 [==============================] - 10s 32ms/step - loss: 6.3411e-07 - binary_accuracy: 1.0000 - val_loss: 2.0847 - val_binary_accuracy: 0.7500\n",
            "Run:  4 / Accuracy at epoch  8  is:  0.75 \n",
            "\n",
            "300/300 [==============================] - 10s 32ms/step - loss: 3.6546e-04 - binary_accuracy: 1.0000 - val_loss: 1.6559 - val_binary_accuracy: 0.8200\n",
            "Run:  4 / Accuracy at epoch  9  is:  0.8199999928474426 \n",
            "\n",
            "Accuracies over epochs: [0.6850000023841858, 0.6800000071525574, 0.7749999761581421, 0.7850000262260437, 0.7850000262260437, 0.8149999976158142, 0.8050000071525574, 0.800000011920929, 0.75, 0.8199999928474426] \n",
            "\n",
            "\n",
            "300/300 [==============================] - 11s 33ms/step - loss: 0.7337 - binary_accuracy: 0.6200 - val_loss: 0.5958 - val_binary_accuracy: 0.6850\n",
            "Run:  5 / Accuracy at epoch  0  is:  0.6850000023841858 \n",
            "\n",
            "300/300 [==============================] - 10s 33ms/step - loss: 0.5479 - binary_accuracy: 0.7733 - val_loss: 0.4877 - val_binary_accuracy: 0.7550\n",
            "Run:  5 / Accuracy at epoch  1  is:  0.7549999952316284 \n",
            "\n",
            "300/300 [==============================] - 10s 32ms/step - loss: 0.3191 - binary_accuracy: 0.8767 - val_loss: 0.7164 - val_binary_accuracy: 0.7100\n",
            "Run:  5 / Accuracy at epoch  2  is:  0.7099999785423279 \n",
            "\n",
            "300/300 [==============================] - 10s 33ms/step - loss: 0.1748 - binary_accuracy: 0.9400 - val_loss: 0.6895 - val_binary_accuracy: 0.7800\n",
            "Run:  5 / Accuracy at epoch  3  is:  0.7799999713897705 \n",
            "\n",
            "300/300 [==============================] - 10s 33ms/step - loss: 0.0357 - binary_accuracy: 0.9833 - val_loss: 2.5287 - val_binary_accuracy: 0.6100\n",
            "Run:  5 / Accuracy at epoch  4  is:  0.6100000143051147 \n",
            "\n",
            "300/300 [==============================] - 10s 32ms/step - loss: 0.0332 - binary_accuracy: 0.9867 - val_loss: 1.3027 - val_binary_accuracy: 0.7750\n",
            "Run:  5 / Accuracy at epoch  5  is:  0.7749999761581421 \n",
            "\n",
            "300/300 [==============================] - 10s 32ms/step - loss: 2.1042e-04 - binary_accuracy: 1.0000 - val_loss: 1.7351 - val_binary_accuracy: 0.7450\n",
            "Run:  5 / Accuracy at epoch  6  is:  0.7450000047683716 \n",
            "\n",
            "300/300 [==============================] - 10s 33ms/step - loss: 9.7581e-04 - binary_accuracy: 1.0000 - val_loss: 1.9213 - val_binary_accuracy: 0.8000\n",
            "Run:  5 / Accuracy at epoch  7  is:  0.800000011920929 \n",
            "\n",
            "300/300 [==============================] - 10s 32ms/step - loss: 1.6970e-06 - binary_accuracy: 1.0000 - val_loss: 1.6958 - val_binary_accuracy: 0.7950\n",
            "Run:  5 / Accuracy at epoch  8  is:  0.7950000166893005 \n",
            "\n",
            "300/300 [==============================] - 10s 32ms/step - loss: 3.1499e-08 - binary_accuracy: 1.0000 - val_loss: 1.9112 - val_binary_accuracy: 0.7850\n",
            "Run:  5 / Accuracy at epoch  9  is:  0.7850000262260437 \n",
            "\n",
            "Accuracies over epochs: [0.6850000023841858, 0.7549999952316284, 0.7099999785423279, 0.7799999713897705, 0.6100000143051147, 0.7749999761581421, 0.7450000047683716, 0.800000011920929, 0.7950000166893005, 0.7850000262260437] \n",
            "\n",
            "\n",
            "\n",
            "\n",
            " Over all runs maximum accuracies on Spanish are: [0.7950000166893005, 0.800000011920929, 0.800000011920929, 0.8100000023841858, 0.8199999928474426]\n",
            "The median for Spanish is: 0.800000011920929 \n",
            "\n",
            "\n",
            "\n"
          ]
        }
      ]
    }
  ]
}